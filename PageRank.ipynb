{
  "nbformat": 4,
  "nbformat_minor": 0,
  "metadata": {
    "colab": {
      "name": "PageRank.ipynb",
      "version": "0.3.2",
      "provenance": []
    },
    "kernelspec": {
      "name": "python3",
      "display_name": "Python 3"
    }
  },
  "cells": [
    {
      "cell_type": "code",
      "metadata": {
        "id": "7Zh432ogefD3",
        "colab_type": "code",
        "colab": {
          "base_uri": "https://localhost:8080/",
          "height": 17
        },
        "outputId": "9b61a05a-5fbb-41e1-fbff-4a370b73947e"
      },
      "source": [
        "import warnings\n",
        "warnings.filterwarnings(\"ignore\")\n",
        "import numpy as np\n",
        "import pandas as pd\n",
        "import seaborn as sns\n",
        "import matplotlib.pyplot as plt\n",
        "from subprocess import check_output\n",
        "%matplotlib inline\n",
        "import plotly.offline as py\n",
        "py.init_notebook_mode(connected=True)\n",
        "import plotly.graph_objs as go\n",
        "import plotly.tools as tls\n",
        "import os\n",
        "import gc\n",
        "\n",
        "import re\n",
        "from nltk.corpus import stopwords\n",
        "from nltk.stem import PorterStemmer\n",
        "from bs4 import BeautifulSoup\n",
        "import re\n",
        "from nltk.corpus import stopwords\n",
        "from nltk.stem import PorterStemmer\n",
        "from bs4 import BeautifulSoup\n",
        "from sklearn.manifold import TSNE\n",
        "from wordcloud import WordCloud, STOPWORDS\n",
        "from os import path\n",
        "from PIL import Image\n",
        "import networkx as nx "
      ],
      "execution_count": 6,
      "outputs": [
        {
          "output_type": "display_data",
          "data": {
            "text/vnd.plotly.v1+html": "<script type=\"text/javascript\">window.PlotlyConfig = {MathJaxConfig: 'local'};</script><script type=\"text/javascript\">if (window.MathJax) {MathJax.Hub.Config({SVG: {font: \"STIX-Web\"}});}</script><script>requirejs.config({paths: { 'plotly': ['https://cdn.plot.ly/plotly-latest.min']},});if(!window._Plotly) {require(['plotly'],function(plotly) {window._Plotly=plotly;});}</script>",
            "text/html": [
              "<script type=\"text/javascript\">window.PlotlyConfig = {MathJaxConfig: 'local'};</script><script type=\"text/javascript\">if (window.MathJax) {MathJax.Hub.Config({SVG: {font: \"STIX-Web\"}});}</script><script>requirejs.config({paths: { 'plotly': ['https://cdn.plot.ly/plotly-latest.min']},});if(!window._Plotly) {require(['plotly'],function(plotly) {window._Plotly=plotly;});}</script>"
            ]
          },
          "metadata": {
            "tags": []
          }
        }
      ]
    },
    {
      "cell_type": "code",
      "metadata": {
        "id": "8ujlo4vPe5zr",
        "colab_type": "code",
        "colab": {}
      },
      "source": [
        "def pagerank(G, alpha=0.85, personalization=None, \n",
        "\t\t\tmax_iter=100, tol=1.0e-6, nstart=None, weight='weight', \n",
        "\t\t\tdangling=None): \n",
        "\tif len(G) == 0: \n",
        "\t\treturn {} \n",
        "\n",
        "\tif not G.is_directed(): \n",
        "\t\tD = G.to_directed() \n",
        "\telse: \n",
        "\t\tD = G \n",
        "\n",
        "\t# Create a copy in (right) stochastic form \n",
        "\tW = nx.stochastic_graph(D, weight=weight) \n",
        "\tN = W.number_of_nodes() \n",
        "\n",
        "\tif nstart is None: \n",
        "\t\tx = dict.fromkeys(W, 1.0 / N) \n",
        "\telse: \n",
        "\t\ts = float(sum(nstart.values())) \n",
        "\t\tx = dict((k, v / s) for k, v in nstart.items()) \n",
        "\n",
        "\tif personalization is None: \n",
        "\n",
        "\t\tp = dict.fromkeys(W, 1.0 / N) \n",
        "\telse: \n",
        "\t\tmissing = set(G) - set(personalization) \n",
        "\t\tif missing: \n",
        "\t\t\traise NetworkXError('Personalization dictionary '\n",
        "\t\t\t\t\t\t\t\t'must have a value for every node. '\n",
        "\t\t\t\t\t\t\t\t'Missing nodes %s' % missing) \n",
        "\t\ts = float(sum(personalization.values())) \n",
        "\t\tp = dict((k, v / s) for k, v in personalization.items()) \n",
        "\n",
        "\tif dangling is None: \n",
        "\n",
        "\t\t# Use personalization vector if dangling vector not specified \n",
        "\t\tdangling_weights = p \n",
        "\telse: \n",
        "\t\tmissing = set(G) - set(dangling) \n",
        "\t\tif missing: \n",
        "\t\t\traise NetworkXError('Dangling node dictionary '\n",
        "\t\t\t\t\t\t\t\t'must have a value for every node. '\n",
        "\t\t\t\t\t\t\t\t'Missing nodes %s' % missing) \n",
        "\t\ts = float(sum(dangling.values())) \n",
        "\t\tdangling_weights = dict((k, v/s) for k, v in dangling.items()) \n",
        "\tdangling_nodes = [n for n in W if W.out_degree(n, weight=weight) == 0.0] \n",
        "\n",
        "\t# power iteration: make up to max_iter iterations \n",
        "\tfor _ in range(max_iter): \n",
        "\t\txlast = x \n",
        "\t\tx = dict.fromkeys(xlast.keys(), 0) \n",
        "\t\tdanglesum = alpha * sum(xlast[n] for n in dangling_nodes) \n",
        "\t\tfor n in x: \n",
        "\n",
        "\t\t\t# this matrix multiply looks odd because it is \n",
        "\t\t\t# doing a left multiply x^T=xlast^T*W \n",
        "\t\t\tfor nbr in W[n]: \n",
        "\t\t\t\tx[nbr] += alpha * xlast[n] * W[n][nbr][weight] \n",
        "\t\t\tx[n] += danglesum * dangling_weights[n] + (1.0 - alpha) * p[n] \n",
        "\n",
        "\t\t# check convergence, l1 norm \n",
        "\t\terr = sum([abs(x[n] - xlast[n]) for n in x]) \n",
        "\t\tif err < N*tol: \n",
        "\t\t\treturn x \n",
        "\traise NetworkXError('pagerank: power iteration failed to converge '\n",
        "\t\t\t\t\t\t'in %d iterations.' % max_iter) \n"
      ],
      "execution_count": 0,
      "outputs": []
    },
    {
      "cell_type": "code",
      "metadata": {
        "id": "0UQak9Cw3UHR",
        "colab_type": "code",
        "colab": {}
      },
      "source": [
        ""
      ],
      "execution_count": 0,
      "outputs": []
    }
  ]
}